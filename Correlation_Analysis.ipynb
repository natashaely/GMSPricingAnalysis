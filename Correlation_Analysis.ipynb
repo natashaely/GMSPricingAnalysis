{
  "nbformat": 4,
  "nbformat_minor": 0,
  "metadata": {
    "colab": {
      "provenance": []
    },
    "kernelspec": {
      "name": "python3",
      "display_name": "Python 3"
    },
    "language_info": {
      "name": "python"
    }
  },
  "cells": [
    {
      "cell_type": "markdown",
      "source": [
        "### **Importing the libraries and reading in the data**"
      ],
      "metadata": {
        "id": "Xxx_kogMvcno"
      }
    },
    {
      "cell_type": "code",
      "source": [
        "#Importing the libraries required for this project.\n",
        "\n",
        "import pandas as pd\n",
        "import seaborn as sns\n",
        "\n",
        "from sklearn.linear_model import LinearRegression\n",
        "\n",
        "import matplotlib\n",
        "import matplotlib.pyplot as plt\n",
        "import matplotlib.mlab as mlab\n",
        "plt.style.use('ggplot')"
      ],
      "metadata": {
        "id": "yQkprmaOvc7S"
      },
      "execution_count": 2,
      "outputs": []
    },
    {
      "cell_type": "code",
      "source": [
        "#Reading in the data.\n",
        "\n",
        "df = pd.read_csv('/content/drive/MyDrive/Colab/7 GMS Pricing Analysis/SalesData.csv')\n"
      ],
      "metadata": {
        "id": "wR_a1os8vmpL"
      },
      "execution_count": 3,
      "outputs": []
    },
    {
      "cell_type": "markdown",
      "source": [
        "\n",
        "\n",
        "---\n",
        "\n"
      ],
      "metadata": {
        "id": "yYWoMjTfxqeC"
      }
    },
    {
      "cell_type": "markdown",
      "source": [
        "###  **Exploring the data**"
      ],
      "metadata": {
        "id": "0NO9kHnxvpA7"
      }
    },
    {
      "cell_type": "code",
      "source": [
        "df.info()"
      ],
      "metadata": {
        "colab": {
          "base_uri": "https://localhost:8080/"
        },
        "id": "GHzfHm_ip1fC",
        "outputId": "7bb3da3f-83fd-4f29-828f-04c1dc172ac5"
      },
      "execution_count": 6,
      "outputs": [
        {
          "output_type": "stream",
          "name": "stdout",
          "text": [
            "<class 'pandas.core.frame.DataFrame'>\n",
            "RangeIndex: 15957 entries, 0 to 15956\n",
            "Data columns (total 8 columns):\n",
            " #   Column                      Non-Null Count  Dtype  \n",
            "---  ------                      --------------  -----  \n",
            " 0   item_id                     15957 non-null  object \n",
            " 1   item_name                   15957 non-null  object \n",
            " 2   event_date                  15957 non-null  int64  \n",
            " 3   event_timestamp             15957 non-null  int64  \n",
            " 4   price_in_usd                15509 non-null  float64\n",
            " 5   item_revenue_in_usd         15509 non-null  float64\n",
            " 6   item_category               15727 non-null  object \n",
            " 7   sold_quantity_on_that_date  15509 non-null  float64\n",
            "dtypes: float64(3), int64(2), object(3)\n",
            "memory usage: 997.4+ KB\n"
          ]
        }
      ]
    },
    {
      "cell_type": "code",
      "source": [
        "#Reviewing the data.\n",
        "df.head()"
      ],
      "metadata": {
        "colab": {
          "base_uri": "https://localhost:8080/",
          "height": 451
        },
        "id": "QVjDKEkEvpmd",
        "outputId": "64ad0247-1c46-4c3a-a7e9-ae7038c545ce"
      },
      "execution_count": 4,
      "outputs": [
        {
          "output_type": "execute_result",
          "data": {
            "text/plain": [
              "   item_id                     item_name  event_date   event_timestamp  \\\n",
              "0  9195842        Google Pen Bright Blue    20210128  1611811435100563   \n",
              "1  9188233     Google Phone Stand Bamboo    20210126  1611637761201507   \n",
              "2  9195209     Google Tudes Recycled Tee    20210126  1611634344081188   \n",
              "3  9195912      Womens Google Striped LS    20210125  1611616699784421   \n",
              "4  9195714  Google Women's Eco Tee Black    20210125  1611616699784421   \n",
              "\n",
              "   price_in_usd  item_revenue_in_usd item_category  sold_quantity_on_that_date  \n",
              "0           2.0                  4.0           NaN                         2.0  \n",
              "1           4.0                  8.0           NaN                         2.0  \n",
              "2          24.0                 48.0           NaN                         2.0  \n",
              "3          16.0                 32.0           NaN                         2.0  \n",
              "4          18.0                 35.0           NaN                         2.0  "
            ],
            "text/html": [
              "\n",
              "  <div id=\"df-ac17afef-71c0-4761-a5aa-d8651168d8ea\" class=\"colab-df-container\">\n",
              "    <div>\n",
              "<style scoped>\n",
              "    .dataframe tbody tr th:only-of-type {\n",
              "        vertical-align: middle;\n",
              "    }\n",
              "\n",
              "    .dataframe tbody tr th {\n",
              "        vertical-align: top;\n",
              "    }\n",
              "\n",
              "    .dataframe thead th {\n",
              "        text-align: right;\n",
              "    }\n",
              "</style>\n",
              "<table border=\"1\" class=\"dataframe\">\n",
              "  <thead>\n",
              "    <tr style=\"text-align: right;\">\n",
              "      <th></th>\n",
              "      <th>item_id</th>\n",
              "      <th>item_name</th>\n",
              "      <th>event_date</th>\n",
              "      <th>event_timestamp</th>\n",
              "      <th>price_in_usd</th>\n",
              "      <th>item_revenue_in_usd</th>\n",
              "      <th>item_category</th>\n",
              "      <th>sold_quantity_on_that_date</th>\n",
              "    </tr>\n",
              "  </thead>\n",
              "  <tbody>\n",
              "    <tr>\n",
              "      <th>0</th>\n",
              "      <td>9195842</td>\n",
              "      <td>Google Pen Bright Blue</td>\n",
              "      <td>20210128</td>\n",
              "      <td>1611811435100563</td>\n",
              "      <td>2.0</td>\n",
              "      <td>4.0</td>\n",
              "      <td>NaN</td>\n",
              "      <td>2.0</td>\n",
              "    </tr>\n",
              "    <tr>\n",
              "      <th>1</th>\n",
              "      <td>9188233</td>\n",
              "      <td>Google Phone Stand Bamboo</td>\n",
              "      <td>20210126</td>\n",
              "      <td>1611637761201507</td>\n",
              "      <td>4.0</td>\n",
              "      <td>8.0</td>\n",
              "      <td>NaN</td>\n",
              "      <td>2.0</td>\n",
              "    </tr>\n",
              "    <tr>\n",
              "      <th>2</th>\n",
              "      <td>9195209</td>\n",
              "      <td>Google Tudes Recycled Tee</td>\n",
              "      <td>20210126</td>\n",
              "      <td>1611634344081188</td>\n",
              "      <td>24.0</td>\n",
              "      <td>48.0</td>\n",
              "      <td>NaN</td>\n",
              "      <td>2.0</td>\n",
              "    </tr>\n",
              "    <tr>\n",
              "      <th>3</th>\n",
              "      <td>9195912</td>\n",
              "      <td>Womens Google Striped LS</td>\n",
              "      <td>20210125</td>\n",
              "      <td>1611616699784421</td>\n",
              "      <td>16.0</td>\n",
              "      <td>32.0</td>\n",
              "      <td>NaN</td>\n",
              "      <td>2.0</td>\n",
              "    </tr>\n",
              "    <tr>\n",
              "      <th>4</th>\n",
              "      <td>9195714</td>\n",
              "      <td>Google Women's Eco Tee Black</td>\n",
              "      <td>20210125</td>\n",
              "      <td>1611616699784421</td>\n",
              "      <td>18.0</td>\n",
              "      <td>35.0</td>\n",
              "      <td>NaN</td>\n",
              "      <td>2.0</td>\n",
              "    </tr>\n",
              "  </tbody>\n",
              "</table>\n",
              "</div>\n",
              "    <div class=\"colab-df-buttons\">\n",
              "\n",
              "  <div class=\"colab-df-container\">\n",
              "    <button class=\"colab-df-convert\" onclick=\"convertToInteractive('df-ac17afef-71c0-4761-a5aa-d8651168d8ea')\"\n",
              "            title=\"Convert this dataframe to an interactive table.\"\n",
              "            style=\"display:none;\">\n",
              "\n",
              "  <svg xmlns=\"http://www.w3.org/2000/svg\" height=\"24px\" viewBox=\"0 -960 960 960\">\n",
              "    <path d=\"M120-120v-720h720v720H120Zm60-500h600v-160H180v160Zm220 220h160v-160H400v160Zm0 220h160v-160H400v160ZM180-400h160v-160H180v160Zm440 0h160v-160H620v160ZM180-180h160v-160H180v160Zm440 0h160v-160H620v160Z\"/>\n",
              "  </svg>\n",
              "    </button>\n",
              "\n",
              "  <style>\n",
              "    .colab-df-container {\n",
              "      display:flex;\n",
              "      gap: 12px;\n",
              "    }\n",
              "\n",
              "    .colab-df-convert {\n",
              "      background-color: #E8F0FE;\n",
              "      border: none;\n",
              "      border-radius: 50%;\n",
              "      cursor: pointer;\n",
              "      display: none;\n",
              "      fill: #1967D2;\n",
              "      height: 32px;\n",
              "      padding: 0 0 0 0;\n",
              "      width: 32px;\n",
              "    }\n",
              "\n",
              "    .colab-df-convert:hover {\n",
              "      background-color: #E2EBFA;\n",
              "      box-shadow: 0px 1px 2px rgba(60, 64, 67, 0.3), 0px 1px 3px 1px rgba(60, 64, 67, 0.15);\n",
              "      fill: #174EA6;\n",
              "    }\n",
              "\n",
              "    .colab-df-buttons div {\n",
              "      margin-bottom: 4px;\n",
              "    }\n",
              "\n",
              "    [theme=dark] .colab-df-convert {\n",
              "      background-color: #3B4455;\n",
              "      fill: #D2E3FC;\n",
              "    }\n",
              "\n",
              "    [theme=dark] .colab-df-convert:hover {\n",
              "      background-color: #434B5C;\n",
              "      box-shadow: 0px 1px 3px 1px rgba(0, 0, 0, 0.15);\n",
              "      filter: drop-shadow(0px 1px 2px rgba(0, 0, 0, 0.3));\n",
              "      fill: #FFFFFF;\n",
              "    }\n",
              "  </style>\n",
              "\n",
              "    <script>\n",
              "      const buttonEl =\n",
              "        document.querySelector('#df-ac17afef-71c0-4761-a5aa-d8651168d8ea button.colab-df-convert');\n",
              "      buttonEl.style.display =\n",
              "        google.colab.kernel.accessAllowed ? 'block' : 'none';\n",
              "\n",
              "      async function convertToInteractive(key) {\n",
              "        const element = document.querySelector('#df-ac17afef-71c0-4761-a5aa-d8651168d8ea');\n",
              "        const dataTable =\n",
              "          await google.colab.kernel.invokeFunction('convertToInteractive',\n",
              "                                                    [key], {});\n",
              "        if (!dataTable) return;\n",
              "\n",
              "        const docLinkHtml = 'Like what you see? Visit the ' +\n",
              "          '<a target=\"_blank\" href=https://colab.research.google.com/notebooks/data_table.ipynb>data table notebook</a>'\n",
              "          + ' to learn more about interactive tables.';\n",
              "        element.innerHTML = '';\n",
              "        dataTable['output_type'] = 'display_data';\n",
              "        await google.colab.output.renderOutput(dataTable, element);\n",
              "        const docLink = document.createElement('div');\n",
              "        docLink.innerHTML = docLinkHtml;\n",
              "        element.appendChild(docLink);\n",
              "      }\n",
              "    </script>\n",
              "  </div>\n",
              "\n",
              "\n",
              "<div id=\"df-010fb2b3-1b7c-44b7-a97f-cd529c45a980\">\n",
              "  <button class=\"colab-df-quickchart\" onclick=\"quickchart('df-010fb2b3-1b7c-44b7-a97f-cd529c45a980')\"\n",
              "            title=\"Suggest charts.\"\n",
              "            style=\"display:none;\">\n",
              "\n",
              "<svg xmlns=\"http://www.w3.org/2000/svg\" height=\"24px\"viewBox=\"0 0 24 24\"\n",
              "     width=\"24px\">\n",
              "    <g>\n",
              "        <path d=\"M19 3H5c-1.1 0-2 .9-2 2v14c0 1.1.9 2 2 2h14c1.1 0 2-.9 2-2V5c0-1.1-.9-2-2-2zM9 17H7v-7h2v7zm4 0h-2V7h2v10zm4 0h-2v-4h2v4z\"/>\n",
              "    </g>\n",
              "</svg>\n",
              "  </button>\n",
              "\n",
              "<style>\n",
              "  .colab-df-quickchart {\n",
              "    background-color: #E8F0FE;\n",
              "    border: none;\n",
              "    border-radius: 50%;\n",
              "    cursor: pointer;\n",
              "    display: none;\n",
              "    fill: #1967D2;\n",
              "    height: 32px;\n",
              "    padding: 0 0 0 0;\n",
              "    width: 32px;\n",
              "  }\n",
              "\n",
              "  .colab-df-quickchart:hover {\n",
              "    background-color: #E2EBFA;\n",
              "    box-shadow: 0px 1px 2px rgba(60, 64, 67, 0.3), 0px 1px 3px 1px rgba(60, 64, 67, 0.15);\n",
              "    fill: #174EA6;\n",
              "  }\n",
              "\n",
              "  [theme=dark] .colab-df-quickchart {\n",
              "    background-color: #3B4455;\n",
              "    fill: #D2E3FC;\n",
              "  }\n",
              "\n",
              "  [theme=dark] .colab-df-quickchart:hover {\n",
              "    background-color: #434B5C;\n",
              "    box-shadow: 0px 1px 3px 1px rgba(0, 0, 0, 0.15);\n",
              "    filter: drop-shadow(0px 1px 2px rgba(0, 0, 0, 0.3));\n",
              "    fill: #FFFFFF;\n",
              "  }\n",
              "</style>\n",
              "\n",
              "  <script>\n",
              "    async function quickchart(key) {\n",
              "      const charts = await google.colab.kernel.invokeFunction(\n",
              "          'suggestCharts', [key], {});\n",
              "    }\n",
              "    (() => {\n",
              "      let quickchartButtonEl =\n",
              "        document.querySelector('#df-010fb2b3-1b7c-44b7-a97f-cd529c45a980 button');\n",
              "      quickchartButtonEl.style.display =\n",
              "        google.colab.kernel.accessAllowed ? 'block' : 'none';\n",
              "    })();\n",
              "  </script>\n",
              "</div>\n",
              "    </div>\n",
              "  </div>\n"
            ]
          },
          "metadata": {},
          "execution_count": 4
        }
      ]
    },
    {
      "cell_type": "markdown",
      "source": [
        "\n",
        "\n",
        "---\n",
        "\n"
      ],
      "metadata": {
        "id": "eCSx031Yxsae"
      }
    },
    {
      "cell_type": "markdown",
      "source": [
        "###  **Cleaning the data**"
      ],
      "metadata": {
        "id": "OTLfWPXzvwvY"
      }
    },
    {
      "cell_type": "code",
      "source": [
        "#Reviewing the columns for any missing data.\n",
        "\n",
        "df.isnull().sum()"
      ],
      "metadata": {
        "colab": {
          "base_uri": "https://localhost:8080/"
        },
        "id": "sZU49jzivurs",
        "outputId": "e18bedd4-fe5a-48bf-f090-40be5b494b99"
      },
      "execution_count": 7,
      "outputs": [
        {
          "output_type": "execute_result",
          "data": {
            "text/plain": [
              "item_id                         0\n",
              "item_name                       0\n",
              "event_date                      0\n",
              "event_timestamp                 0\n",
              "price_in_usd                  448\n",
              "item_revenue_in_usd           448\n",
              "item_category                 230\n",
              "sold_quantity_on_that_date    448\n",
              "dtype: int64"
            ]
          },
          "metadata": {},
          "execution_count": 7
        }
      ]
    },
    {
      "cell_type": "code",
      "source": [
        "# Drop rows with missing values in the specified columns\n",
        "df.dropna(subset=['price_in_usd', 'sold_quantity_on_that_date'])\n",
        "\n",
        "# Confirm that the rows with missing values have been removed\n",
        "df.isnull().sum()\n",
        "\n",
        "df"
      ],
      "metadata": {
        "colab": {
          "base_uri": "https://localhost:8080/",
          "height": 617
        },
        "id": "ItwcJtBRzuoQ",
        "outputId": "1d82e6bb-d99d-4faa-f69e-559831f96af1"
      },
      "execution_count": 9,
      "outputs": [
        {
          "output_type": "execute_result",
          "data": {
            "text/plain": [
              "       item_id                     item_name  event_date   event_timestamp  \\\n",
              "0      9195842        Google Pen Bright Blue    20210128  1611811435100563   \n",
              "1      9188233     Google Phone Stand Bamboo    20210126  1611637761201507   \n",
              "2      9195209     Google Tudes Recycled Tee    20210126  1611634344081188   \n",
              "3      9195912      Womens Google Striped LS    20210125  1611616699784421   \n",
              "4      9195714  Google Women's Eco Tee Black    20210125  1611616699784421   \n",
              "...        ...                           ...         ...               ...   \n",
              "15952  9184831        Google Light Pen Green    20201106  1604633986145021   \n",
              "15953  9197329            #IamRemarkable Pen    20201104  1604493031400230   \n",
              "15954  9197329            #IamRemarkable Pen    20201104  1604492809128573   \n",
              "15955  9184830          Google Light Pen Red    20201103  1604386103216301   \n",
              "15956  9184831        Google Light Pen Green    20201103  1604376296181316   \n",
              "\n",
              "       price_in_usd  item_revenue_in_usd        item_category  \\\n",
              "0               2.0                  4.0                  NaN   \n",
              "1               4.0                  8.0                  NaN   \n",
              "2              24.0                 48.0                  NaN   \n",
              "3              16.0                 32.0                  NaN   \n",
              "4              18.0                 35.0                  NaN   \n",
              "...             ...                  ...                  ...   \n",
              "15952           2.0                  6.0  Writing Instruments   \n",
              "15953          14.0                 14.0  Writing Instruments   \n",
              "15954          14.0                 14.0  Writing Instruments   \n",
              "15955           2.0                  2.0  Writing Instruments   \n",
              "15956           2.0                  2.0  Writing Instruments   \n",
              "\n",
              "       sold_quantity_on_that_date  \n",
              "0                             2.0  \n",
              "1                             2.0  \n",
              "2                             2.0  \n",
              "3                             2.0  \n",
              "4                             2.0  \n",
              "...                           ...  \n",
              "15952                         3.0  \n",
              "15953                         1.0  \n",
              "15954                         1.0  \n",
              "15955                         1.0  \n",
              "15956                         1.0  \n",
              "\n",
              "[15957 rows x 8 columns]"
            ],
            "text/html": [
              "\n",
              "  <div id=\"df-275b8ae4-9d61-4e6e-a45e-6369c6d2a3b0\" class=\"colab-df-container\">\n",
              "    <div>\n",
              "<style scoped>\n",
              "    .dataframe tbody tr th:only-of-type {\n",
              "        vertical-align: middle;\n",
              "    }\n",
              "\n",
              "    .dataframe tbody tr th {\n",
              "        vertical-align: top;\n",
              "    }\n",
              "\n",
              "    .dataframe thead th {\n",
              "        text-align: right;\n",
              "    }\n",
              "</style>\n",
              "<table border=\"1\" class=\"dataframe\">\n",
              "  <thead>\n",
              "    <tr style=\"text-align: right;\">\n",
              "      <th></th>\n",
              "      <th>item_id</th>\n",
              "      <th>item_name</th>\n",
              "      <th>event_date</th>\n",
              "      <th>event_timestamp</th>\n",
              "      <th>price_in_usd</th>\n",
              "      <th>item_revenue_in_usd</th>\n",
              "      <th>item_category</th>\n",
              "      <th>sold_quantity_on_that_date</th>\n",
              "    </tr>\n",
              "  </thead>\n",
              "  <tbody>\n",
              "    <tr>\n",
              "      <th>0</th>\n",
              "      <td>9195842</td>\n",
              "      <td>Google Pen Bright Blue</td>\n",
              "      <td>20210128</td>\n",
              "      <td>1611811435100563</td>\n",
              "      <td>2.0</td>\n",
              "      <td>4.0</td>\n",
              "      <td>NaN</td>\n",
              "      <td>2.0</td>\n",
              "    </tr>\n",
              "    <tr>\n",
              "      <th>1</th>\n",
              "      <td>9188233</td>\n",
              "      <td>Google Phone Stand Bamboo</td>\n",
              "      <td>20210126</td>\n",
              "      <td>1611637761201507</td>\n",
              "      <td>4.0</td>\n",
              "      <td>8.0</td>\n",
              "      <td>NaN</td>\n",
              "      <td>2.0</td>\n",
              "    </tr>\n",
              "    <tr>\n",
              "      <th>2</th>\n",
              "      <td>9195209</td>\n",
              "      <td>Google Tudes Recycled Tee</td>\n",
              "      <td>20210126</td>\n",
              "      <td>1611634344081188</td>\n",
              "      <td>24.0</td>\n",
              "      <td>48.0</td>\n",
              "      <td>NaN</td>\n",
              "      <td>2.0</td>\n",
              "    </tr>\n",
              "    <tr>\n",
              "      <th>3</th>\n",
              "      <td>9195912</td>\n",
              "      <td>Womens Google Striped LS</td>\n",
              "      <td>20210125</td>\n",
              "      <td>1611616699784421</td>\n",
              "      <td>16.0</td>\n",
              "      <td>32.0</td>\n",
              "      <td>NaN</td>\n",
              "      <td>2.0</td>\n",
              "    </tr>\n",
              "    <tr>\n",
              "      <th>4</th>\n",
              "      <td>9195714</td>\n",
              "      <td>Google Women's Eco Tee Black</td>\n",
              "      <td>20210125</td>\n",
              "      <td>1611616699784421</td>\n",
              "      <td>18.0</td>\n",
              "      <td>35.0</td>\n",
              "      <td>NaN</td>\n",
              "      <td>2.0</td>\n",
              "    </tr>\n",
              "    <tr>\n",
              "      <th>...</th>\n",
              "      <td>...</td>\n",
              "      <td>...</td>\n",
              "      <td>...</td>\n",
              "      <td>...</td>\n",
              "      <td>...</td>\n",
              "      <td>...</td>\n",
              "      <td>...</td>\n",
              "      <td>...</td>\n",
              "    </tr>\n",
              "    <tr>\n",
              "      <th>15952</th>\n",
              "      <td>9184831</td>\n",
              "      <td>Google Light Pen Green</td>\n",
              "      <td>20201106</td>\n",
              "      <td>1604633986145021</td>\n",
              "      <td>2.0</td>\n",
              "      <td>6.0</td>\n",
              "      <td>Writing Instruments</td>\n",
              "      <td>3.0</td>\n",
              "    </tr>\n",
              "    <tr>\n",
              "      <th>15953</th>\n",
              "      <td>9197329</td>\n",
              "      <td>#IamRemarkable Pen</td>\n",
              "      <td>20201104</td>\n",
              "      <td>1604493031400230</td>\n",
              "      <td>14.0</td>\n",
              "      <td>14.0</td>\n",
              "      <td>Writing Instruments</td>\n",
              "      <td>1.0</td>\n",
              "    </tr>\n",
              "    <tr>\n",
              "      <th>15954</th>\n",
              "      <td>9197329</td>\n",
              "      <td>#IamRemarkable Pen</td>\n",
              "      <td>20201104</td>\n",
              "      <td>1604492809128573</td>\n",
              "      <td>14.0</td>\n",
              "      <td>14.0</td>\n",
              "      <td>Writing Instruments</td>\n",
              "      <td>1.0</td>\n",
              "    </tr>\n",
              "    <tr>\n",
              "      <th>15955</th>\n",
              "      <td>9184830</td>\n",
              "      <td>Google Light Pen Red</td>\n",
              "      <td>20201103</td>\n",
              "      <td>1604386103216301</td>\n",
              "      <td>2.0</td>\n",
              "      <td>2.0</td>\n",
              "      <td>Writing Instruments</td>\n",
              "      <td>1.0</td>\n",
              "    </tr>\n",
              "    <tr>\n",
              "      <th>15956</th>\n",
              "      <td>9184831</td>\n",
              "      <td>Google Light Pen Green</td>\n",
              "      <td>20201103</td>\n",
              "      <td>1604376296181316</td>\n",
              "      <td>2.0</td>\n",
              "      <td>2.0</td>\n",
              "      <td>Writing Instruments</td>\n",
              "      <td>1.0</td>\n",
              "    </tr>\n",
              "  </tbody>\n",
              "</table>\n",
              "<p>15957 rows × 8 columns</p>\n",
              "</div>\n",
              "    <div class=\"colab-df-buttons\">\n",
              "\n",
              "  <div class=\"colab-df-container\">\n",
              "    <button class=\"colab-df-convert\" onclick=\"convertToInteractive('df-275b8ae4-9d61-4e6e-a45e-6369c6d2a3b0')\"\n",
              "            title=\"Convert this dataframe to an interactive table.\"\n",
              "            style=\"display:none;\">\n",
              "\n",
              "  <svg xmlns=\"http://www.w3.org/2000/svg\" height=\"24px\" viewBox=\"0 -960 960 960\">\n",
              "    <path d=\"M120-120v-720h720v720H120Zm60-500h600v-160H180v160Zm220 220h160v-160H400v160Zm0 220h160v-160H400v160ZM180-400h160v-160H180v160Zm440 0h160v-160H620v160ZM180-180h160v-160H180v160Zm440 0h160v-160H620v160Z\"/>\n",
              "  </svg>\n",
              "    </button>\n",
              "\n",
              "  <style>\n",
              "    .colab-df-container {\n",
              "      display:flex;\n",
              "      gap: 12px;\n",
              "    }\n",
              "\n",
              "    .colab-df-convert {\n",
              "      background-color: #E8F0FE;\n",
              "      border: none;\n",
              "      border-radius: 50%;\n",
              "      cursor: pointer;\n",
              "      display: none;\n",
              "      fill: #1967D2;\n",
              "      height: 32px;\n",
              "      padding: 0 0 0 0;\n",
              "      width: 32px;\n",
              "    }\n",
              "\n",
              "    .colab-df-convert:hover {\n",
              "      background-color: #E2EBFA;\n",
              "      box-shadow: 0px 1px 2px rgba(60, 64, 67, 0.3), 0px 1px 3px 1px rgba(60, 64, 67, 0.15);\n",
              "      fill: #174EA6;\n",
              "    }\n",
              "\n",
              "    .colab-df-buttons div {\n",
              "      margin-bottom: 4px;\n",
              "    }\n",
              "\n",
              "    [theme=dark] .colab-df-convert {\n",
              "      background-color: #3B4455;\n",
              "      fill: #D2E3FC;\n",
              "    }\n",
              "\n",
              "    [theme=dark] .colab-df-convert:hover {\n",
              "      background-color: #434B5C;\n",
              "      box-shadow: 0px 1px 3px 1px rgba(0, 0, 0, 0.15);\n",
              "      filter: drop-shadow(0px 1px 2px rgba(0, 0, 0, 0.3));\n",
              "      fill: #FFFFFF;\n",
              "    }\n",
              "  </style>\n",
              "\n",
              "    <script>\n",
              "      const buttonEl =\n",
              "        document.querySelector('#df-275b8ae4-9d61-4e6e-a45e-6369c6d2a3b0 button.colab-df-convert');\n",
              "      buttonEl.style.display =\n",
              "        google.colab.kernel.accessAllowed ? 'block' : 'none';\n",
              "\n",
              "      async function convertToInteractive(key) {\n",
              "        const element = document.querySelector('#df-275b8ae4-9d61-4e6e-a45e-6369c6d2a3b0');\n",
              "        const dataTable =\n",
              "          await google.colab.kernel.invokeFunction('convertToInteractive',\n",
              "                                                    [key], {});\n",
              "        if (!dataTable) return;\n",
              "\n",
              "        const docLinkHtml = 'Like what you see? Visit the ' +\n",
              "          '<a target=\"_blank\" href=https://colab.research.google.com/notebooks/data_table.ipynb>data table notebook</a>'\n",
              "          + ' to learn more about interactive tables.';\n",
              "        element.innerHTML = '';\n",
              "        dataTable['output_type'] = 'display_data';\n",
              "        await google.colab.output.renderOutput(dataTable, element);\n",
              "        const docLink = document.createElement('div');\n",
              "        docLink.innerHTML = docLinkHtml;\n",
              "        element.appendChild(docLink);\n",
              "      }\n",
              "    </script>\n",
              "  </div>\n",
              "\n",
              "\n",
              "<div id=\"df-0f7f184e-5251-400a-b645-782286d5d92c\">\n",
              "  <button class=\"colab-df-quickchart\" onclick=\"quickchart('df-0f7f184e-5251-400a-b645-782286d5d92c')\"\n",
              "            title=\"Suggest charts.\"\n",
              "            style=\"display:none;\">\n",
              "\n",
              "<svg xmlns=\"http://www.w3.org/2000/svg\" height=\"24px\"viewBox=\"0 0 24 24\"\n",
              "     width=\"24px\">\n",
              "    <g>\n",
              "        <path d=\"M19 3H5c-1.1 0-2 .9-2 2v14c0 1.1.9 2 2 2h14c1.1 0 2-.9 2-2V5c0-1.1-.9-2-2-2zM9 17H7v-7h2v7zm4 0h-2V7h2v10zm4 0h-2v-4h2v4z\"/>\n",
              "    </g>\n",
              "</svg>\n",
              "  </button>\n",
              "\n",
              "<style>\n",
              "  .colab-df-quickchart {\n",
              "    background-color: #E8F0FE;\n",
              "    border: none;\n",
              "    border-radius: 50%;\n",
              "    cursor: pointer;\n",
              "    display: none;\n",
              "    fill: #1967D2;\n",
              "    height: 32px;\n",
              "    padding: 0 0 0 0;\n",
              "    width: 32px;\n",
              "  }\n",
              "\n",
              "  .colab-df-quickchart:hover {\n",
              "    background-color: #E2EBFA;\n",
              "    box-shadow: 0px 1px 2px rgba(60, 64, 67, 0.3), 0px 1px 3px 1px rgba(60, 64, 67, 0.15);\n",
              "    fill: #174EA6;\n",
              "  }\n",
              "\n",
              "  [theme=dark] .colab-df-quickchart {\n",
              "    background-color: #3B4455;\n",
              "    fill: #D2E3FC;\n",
              "  }\n",
              "\n",
              "  [theme=dark] .colab-df-quickchart:hover {\n",
              "    background-color: #434B5C;\n",
              "    box-shadow: 0px 1px 3px 1px rgba(0, 0, 0, 0.15);\n",
              "    filter: drop-shadow(0px 1px 2px rgba(0, 0, 0, 0.3));\n",
              "    fill: #FFFFFF;\n",
              "  }\n",
              "</style>\n",
              "\n",
              "  <script>\n",
              "    async function quickchart(key) {\n",
              "      const charts = await google.colab.kernel.invokeFunction(\n",
              "          'suggestCharts', [key], {});\n",
              "    }\n",
              "    (() => {\n",
              "      let quickchartButtonEl =\n",
              "        document.querySelector('#df-0f7f184e-5251-400a-b645-782286d5d92c button');\n",
              "      quickchartButtonEl.style.display =\n",
              "        google.colab.kernel.accessAllowed ? 'block' : 'none';\n",
              "    })();\n",
              "  </script>\n",
              "</div>\n",
              "    </div>\n",
              "  </div>\n"
            ]
          },
          "metadata": {},
          "execution_count": 9
        }
      ]
    },
    {
      "cell_type": "markdown",
      "source": [
        "\n",
        "\n",
        "---\n",
        "\n"
      ],
      "metadata": {
        "id": "G6HA0nWixt1z"
      }
    },
    {
      "cell_type": "markdown",
      "source": [
        "###  **Identify the Top 5 items**"
      ],
      "metadata": {
        "id": "pEl6wjDyv363"
      }
    },
    {
      "cell_type": "code",
      "source": [
        "# Group by item_name and aggregate the total sold quantity for each item\n",
        "total_sales_per_item = df.groupby('item_name')['sold_quantity_on_that_date'].sum()\n",
        "\n",
        "# Sort the items by total sales quantity in descending order and pick the top 5\n",
        "top_5_items = total_sales_per_item.sort_values(ascending=False).head(5)\n",
        "\n",
        "top_5_items"
      ],
      "metadata": {
        "colab": {
          "base_uri": "https://localhost:8080/"
        },
        "id": "Hrk5CCFBv4WF",
        "outputId": "51880fba-5ec0-43b8-9764-44734338c757"
      },
      "execution_count": 20,
      "outputs": [
        {
          "output_type": "execute_result",
          "data": {
            "text/plain": [
              "item_name\n",
              "Google Clear Pen 4-Pack                  444.0\n",
              "Google Laptop and Cell Phone Stickers    416.0\n",
              "Google Metallic Notebook Set             365.0\n",
              "Google Pen White                         340.0\n",
              "Google Sunglasses                        322.0\n",
              "Name: sold_quantity_on_that_date, dtype: float64"
            ]
          },
          "metadata": {},
          "execution_count": 20
        }
      ]
    },
    {
      "cell_type": "markdown",
      "source": [
        "\n",
        "\n",
        "---\n",
        "\n"
      ],
      "metadata": {
        "id": "tQIo2l7ewD9k"
      }
    },
    {
      "cell_type": "markdown",
      "source": [
        "### **Correlation Analysis**"
      ],
      "metadata": {
        "id": "rQvZjoIzwFdO"
      }
    },
    {
      "cell_type": "code",
      "source": [
        "# Initialising a dictionary to store the correlation results for each item based on total sales quantity\n",
        "correlation_results = {}\n",
        "\n",
        "# For each of the top 5 items by sales, compute the correlation between price and sold quantity\n",
        "for item in top_5_items.index:\n",
        "    item_data = df[df['item_name'] == item]\n",
        "    correlation = item_data['price_in_usd'].corr(item_data['sold_quantity_on_that_date'])\n",
        "    correlation_results[item] = correlation\n",
        "\n",
        "correlation_results\n"
      ],
      "metadata": {
        "colab": {
          "base_uri": "https://localhost:8080/"
        },
        "id": "RxHJsMOvwGsa",
        "outputId": "84b49a84-8dfb-40bc-dffc-4544cce925de"
      },
      "execution_count": 23,
      "outputs": [
        {
          "output_type": "execute_result",
          "data": {
            "text/plain": [
              "{'Google Clear Pen 4-Pack': 0.043866314516611354,\n",
              " 'Google Laptop and Cell Phone Stickers': 0.11876695526958654,\n",
              " 'Google Metallic Notebook Set': -0.04938384435420102,\n",
              " 'Google Pen White': -0.08645110155622916,\n",
              " 'Google Sunglasses': 0.10902644711616548}"
            ]
          },
          "metadata": {},
          "execution_count": 23
        }
      ]
    },
    {
      "cell_type": "markdown",
      "source": [
        "\n",
        "\n",
        "---\n",
        "\n"
      ],
      "metadata": {
        "id": "ltLcwIPhwJ_H"
      }
    },
    {
      "cell_type": "markdown",
      "source": [
        "### **Visualisation: Scatter Plot**"
      ],
      "metadata": {
        "id": "9uqMMUJGxORn"
      }
    },
    {
      "cell_type": "code",
      "source": [
        "# Set the style for seaborn plots\n",
        "sns.set_style(\"whitegrid\")\n",
        "\n",
        "# Create scatter plots with regression lines for the top 5 items by sales quantity\n",
        "fig, axes = plt.subplots(nrows=3, ncols=2, figsize=(14, 12))\n",
        "\n",
        "# Flatten the axes for easy iteration\n",
        "axes = axes.flatten()\n",
        "\n",
        "# Remove the last subplot since we only need 5 plots\n",
        "fig.delaxes(axes[-1])\n",
        "\n",
        "# Plot each item\n",
        "for ax, item in zip(axes, top_5_items.index):\n",
        "    item_data = df[df['item_name'] == item]\n",
        "\n",
        "    sns.regplot(x='price_in_usd', y='sold_quantity_on_that_date', data=item_data, ax=ax, scatter_kws={'s':20, 'alpha':0.6}, line_kws={'color':'red'})\n",
        "\n",
        "    ax.set_title(item)\n",
        "    ax.set_xlabel('Price (in USD)')\n",
        "    ax.set_ylabel('Sold Quantity')\n",
        "\n",
        "plt.tight_layout()\n",
        "plt.show()\n"
      ],
      "metadata": {
        "colab": {
          "base_uri": "https://localhost:8080/",
          "height": 851
        },
        "id": "2a-Vi1bDxTcG",
        "outputId": "0fbc081c-ad6d-4bdd-c90b-4361c08eb138"
      },
      "execution_count": 26,
      "outputs": [
        {
          "output_type": "display_data",
          "data": {
            "text/plain": [
              "<Figure size 1400x1200 with 5 Axes>"
            ],
            "image/png": "[encoded data removed]"
          },
          "metadata": {}
        }
      ]
    },
    {
      "cell_type": "markdown",
      "source": [
        "\n",
        "\n",
        "---\n",
        "\n"
      ],
      "metadata": {
        "id": "uoA4oDXXxiUn"
      }
    }
  ]
}
